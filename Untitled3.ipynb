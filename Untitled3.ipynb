{
  "nbformat": 4,
  "nbformat_minor": 0,
  "metadata": {
    "colab": {
      "provenance": []
    },
    "kernelspec": {
      "name": "python3",
      "display_name": "Python 3"
    },
    "language_info": {
      "name": "python"
    }
  },
  "cells": [
    {
      "cell_type": "code",
      "execution_count": 7,
      "metadata": {
        "colab": {
          "base_uri": "https://localhost:8080/",
          "height": 141
        },
        "id": "4S76AOiGB8K5",
        "outputId": "63478411-0a35-4d2e-92a5-ae766f7af47d"
      },
      "outputs": [
        {
          "output_type": "stream",
          "name": "stdout",
          "text": [
            "Requirement already satisfied: google-search-results in /usr/local/lib/python3.11/dist-packages (2.4.2)\n",
            "Requirement already satisfied: requests in /usr/local/lib/python3.11/dist-packages (from google-search-results) (2.32.3)\n",
            "Requirement already satisfied: charset-normalizer<4,>=2 in /usr/local/lib/python3.11/dist-packages (from requests->google-search-results) (3.4.2)\n",
            "Requirement already satisfied: idna<4,>=2.5 in /usr/local/lib/python3.11/dist-packages (from requests->google-search-results) (3.10)\n",
            "Requirement already satisfied: urllib3<3,>=1.21.1 in /usr/local/lib/python3.11/dist-packages (from requests->google-search-results) (2.5.0)\n",
            "Requirement already satisfied: certifi>=2017.4.17 in /usr/local/lib/python3.11/dist-packages (from requests->google-search-results) (2025.7.14)\n"
          ]
        },
        {
          "output_type": "display_data",
          "data": {
            "text/plain": [
              "<IPython.core.display.Javascript object>"
            ],
            "application/javascript": [
              "\n",
              "    async function download(id, filename, size) {\n",
              "      if (!google.colab.kernel.accessAllowed) {\n",
              "        return;\n",
              "      }\n",
              "      const div = document.createElement('div');\n",
              "      const label = document.createElement('label');\n",
              "      label.textContent = `Downloading \"${filename}\": `;\n",
              "      div.appendChild(label);\n",
              "      const progress = document.createElement('progress');\n",
              "      progress.max = size;\n",
              "      div.appendChild(progress);\n",
              "      document.body.appendChild(div);\n",
              "\n",
              "      const buffers = [];\n",
              "      let downloaded = 0;\n",
              "\n",
              "      const channel = await google.colab.kernel.comms.open(id);\n",
              "      // Send a message to notify the kernel that we're ready.\n",
              "      channel.send({})\n",
              "\n",
              "      for await (const message of channel.messages) {\n",
              "        // Send a message to notify the kernel that we're ready.\n",
              "        channel.send({})\n",
              "        if (message.buffers) {\n",
              "          for (const buffer of message.buffers) {\n",
              "            buffers.push(buffer);\n",
              "            downloaded += buffer.byteLength;\n",
              "            progress.value = downloaded;\n",
              "          }\n",
              "        }\n",
              "      }\n",
              "      const blob = new Blob(buffers, {type: 'application/binary'});\n",
              "      const a = document.createElement('a');\n",
              "      a.href = window.URL.createObjectURL(blob);\n",
              "      a.download = filename;\n",
              "      div.appendChild(a);\n",
              "      a.click();\n",
              "      div.remove();\n",
              "    }\n",
              "  "
            ]
          },
          "metadata": {}
        },
        {
          "output_type": "display_data",
          "data": {
            "text/plain": [
              "<IPython.core.display.Javascript object>"
            ],
            "application/javascript": [
              "download(\"download_942c83a5-31a2-435a-aabf-bd9a96aeba62\", \"perusahaan_dengan_alamat.csv\", 46270)"
            ]
          },
          "metadata": {}
        }
      ],
      "source": [
        "!pip install google-search-results\n",
        "from serpapi import GoogleSearch\n",
        "import pandas as pd\n",
        "import time\n",
        "from google.colab import files\n",
        "\n",
        "\n",
        "API_KEY = \"2c635c25bae4f964db82112b85fa9049ddaa6f40fd8989684d73a908eaf89cbf\"\n",
        "\n",
        "\n",
        "# Baca file\n",
        "df = pd.read_csv(\"perusahaan.csv\")\n",
        "df.columns = df.columns.str.strip().str.lower().str.replace(\" \", \"_\")\n",
        "\n",
        "\n",
        "alamat1, alamat2, alamat3 = [], [], []\n",
        "\n",
        "\n",
        "for nama in df['nama_perusahaan']:\n",
        "    try:\n",
        "        params = {\n",
        "            \"engine\": \"google\",\n",
        "            \"q\": f\"alamat {nama}\",\n",
        "            \"api_key\": API_KEY,\n",
        "            \"num\": 3\n",
        "        }\n",
        "\n",
        "\n",
        "        search = GoogleSearch(params)\n",
        "        results = search.get_dict()\n",
        "        organic_results = results.get(\"organic_results\", [])\n",
        "\n",
        "\n",
        "        alamat1.append(organic_results[0][\"link\"] if len(organic_results) > 0 else \"\")\n",
        "        alamat2.append(organic_results[1][\"link\"] if len(organic_results) > 1 else \"\")\n",
        "        alamat3.append(organic_results[2][\"link\"] if len(organic_results) > 2 else \"\")\n",
        "\n",
        "\n",
        "        time.sleep(1.5)\n",
        "    except Exception as e:\n",
        "        alamat1.append(\"Error\")\n",
        "        alamat2.append(\"Error\")\n",
        "        alamat3.append(\"Error\")\n",
        "\n",
        "\n",
        "df[\"alamat_1\"] = alamat1\n",
        "df[\"alamat_2\"] = alamat2\n",
        "df[\"alamat_3\"] = alamat3\n",
        "\n",
        "\n",
        "# Simpan CSV dengan delimiter titik koma (agar terbaca rapi di Excel)\n",
        "df.to_csv(\"perusahaan_dengan_alamat.csv\", index=False, sep=\";\")\n",
        "\n",
        "\n",
        "# Unduh file\n",
        "files.download(\"perusahaan_dengan_alamat.csv\")\n",
        "\n",
        "\n",
        "\n",
        "\n",
        "\n",
        "\n"
      ]
    }
  ]
}